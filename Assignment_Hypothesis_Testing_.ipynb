{
  "nbformat": 4,
  "nbformat_minor": 0,
  "metadata": {
    "colab": {
      "provenance": []
    },
    "kernelspec": {
      "name": "python3",
      "display_name": "Python 3"
    },
    "language_info": {
      "name": "python"
    }
  },
  "cells": [
    {
      "cell_type": "markdown",
      "source": [
        "# **HYPOTHESIS TESTING**"
      ],
      "metadata": {
        "id": "WIy7yeMdXyZA"
      }
    },
    {
      "cell_type": "markdown",
      "source": [
        "Data Provided:\n",
        "•\tThe theoretical weekly operating cost model: W = $1,000 + $5X\n",
        "•\tSample of 25 restaurants with a mean weekly cost of Rs. 3,050\n",
        "•\tNumber of units produced in a week (X) follows a normal distribution with a mean (μ) of 600 units and a standard deviation (σ) of 25 units\n"
      ],
      "metadata": {
        "id": "C8qtwazJV-ho"
      }
    },
    {
      "cell_type": "markdown",
      "source": [
        "**Assignment Tasks:**\n",
        "1. State the Hypotheses statement:\n",
        "2. Calculate the Test Statistic:\n"
      ],
      "metadata": {
        "id": "MIlJMzGyWGF2"
      }
    },
    {
      "cell_type": "markdown",
      "source": [
        "### 1. Hypotheses Statement:\n",
        "\n",
        "- **Null Hypothesis (H₀):** The sample mean weekly operating cost is equal to the theoretical mean weekly operating cost.\n",
        "  \\[\n",
        "  H₀: \\mu = 3050\n",
        "  \\]\n",
        "\n",
        "- **Alternative Hypothesis (H₁):** The sample mean weekly operating cost is not equal to the theoretical mean weekly operating cost.\n",
        "  \\[\n",
        "  H₁: \\mu \\neq 3050\n",
        "  \\]\n",
        "\n",
        "### 2. Calculate the Test Statistic:\n",
        "\n",
        "To calculate the test statistic, we first need to calculate the theoretical weekly operating cost mean (W) using the formula:\n",
        "\\[\n",
        "W = 1000 + 5X\n",
        "\\]\n",
        "where \\(X\\) is the number of units produced in a week.\n",
        "\n",
        "Given that \\(X\\) follows a normal distribution with a mean (\\(\\mu_X\\)) of 600 units and a standard deviation (\\(\\sigma_X\\)) of 25 units, the mean of \\(W\\) can be calculated as:\n",
        "\\[\n",
        "\\mu_W = 1000 + 5 \\times \\mu_X = 1000 + 5 \\times 600 = 1000 + 3000 = 4000\n",
        "\\]\n",
        "\n",
        "Next, the standard deviation of \\(W\\) (\\(\\sigma_W\\)) is:\n",
        "\\[\n",
        "\\sigma_W = 5 \\times \\sigma_X = 5 \\times 25 = 125\n",
        "\\]\n",
        "\n",
        "The test statistic is calculated using the formula:\n",
        "\\[\n",
        "Z = \\frac{\\bar{X} - \\mu_W}{\\frac{\\sigma_W}{\\sqrt{n}}}\n",
        "\\]\n",
        "where:\n",
        "- \\(\\bar{X} = 3050\\) (Sample mean weekly cost)\n",
        "- \\(\\mu_W = 4000\\) (Theoretical mean weekly cost)\n",
        "- \\(\\sigma_W = 125\\) (Standard deviation of weekly cost)\n",
        "- \\(n = 25\\) (Sample size)\n",
        "\n",
        "Let's plug in the values and calculate the test statistic.\n",
        "\n",
        "The calculated test statistic \\( Z \\) is \\(-38.0\\).\n",
        "\n",
        "This indicates that the sample mean weekly cost is significantly lower than the theoretical mean weekly cost. The magnitude of this test statistic suggests a very strong deviation from the null hypothesis."
      ],
      "metadata": {
        "id": "KN3HBGKUWbK8"
      }
    },
    {
      "cell_type": "markdown",
      "source": [
        "### **3. Determine the Critical Value:**"
      ],
      "metadata": {
        "id": "xpRxuEyBWnfh"
      }
    },
    {
      "cell_type": "markdown",
      "source": [
        "A common choice is \\(\\alpha = 0.05\\), but it could vary depending on the context of the problem.\n",
        "\n",
        "Since this is a two-tailed test (as indicated by the alternative hypothesis \\(\\mu \\neq 3050\\)), we need to find the critical values for both tails of the normal distribution.\n",
        "\n",
        "For a significance level of \\(\\alpha = 0.05\\), the critical values for a two-tailed test are typically at \\(\\pm Z_{\\alpha/2}\\).\n",
        "\n",
        "Let's calculate the critical values assuming \\(\\alpha = 0.05\\).\n",
        "\n",
        "The critical values for a two-tailed test at a significance level of \\(\\alpha = 0.05\\) are approximately \\(\\pm 1.96\\).\n",
        "\n",
        "This means that if the calculated test statistic falls outside the range of \\(-1.96\\) to \\(1.96\\), we would reject the null hypothesis."
      ],
      "metadata": {
        "id": "Sq7H8mURWrvw"
      }
    },
    {
      "cell_type": "markdown",
      "source": [
        "### **4. Make a Decision:**"
      ],
      "metadata": {
        "id": "6NNRsKnMWuGU"
      }
    },
    {
      "cell_type": "markdown",
      "source": [
        "To make a decision, we compare the test statistic with the critical values:\n",
        "\n",
        "- The test statistic calculated earlier is \\( Z = -38.0 \\).\n",
        "- The critical values are \\(\\pm 1.96\\).\n",
        "\n",
        "Since \\(-38.0\\) is far outside the range of \\(-1.96\\) to \\(1.96\\), we **reject the null hypothesis**.\n",
        "\n",
        "### Conclusion:\n",
        "There is strong evidence to suggest that the sample mean weekly operating cost significantly differs from the theoretical mean weekly operating cost."
      ],
      "metadata": {
        "id": "okveXADaV8Nk"
      }
    },
    {
      "cell_type": "markdown",
      "source": [
        "### **5. Conclusion:**"
      ],
      "metadata": {
        "id": "sjv6XT02XhBm"
      }
    },
    {
      "cell_type": "markdown",
      "source": [
        "### Conclusion:\n",
        "\n",
        "Based on the decision to reject the null hypothesis, there is strong evidence to support the claim that the weekly operating costs are significantly lower than what the theoretical model suggests.\n",
        "\n",
        "The sample mean weekly cost of Rs. 3,050 is much lower than the theoretical mean weekly cost of Rs. 4,000, indicating that the actual operating costs for the restaurants in the sample are lower than what the model predicts. Therefore, the restaurant owners' claim that the weekly operating costs are higher than the model suggests is not supported by the data."
      ],
      "metadata": {
        "id": "yYCc2BDEXmii"
      }
    },
    {
      "cell_type": "markdown",
      "source": [
        "# **CHI-SQUARE TEST**"
      ],
      "metadata": {
        "id": "gRTs_gOkXo_e"
      }
    },
    {
      "cell_type": "markdown",
      "source": [
        "### **Assignment Tasks**"
      ],
      "metadata": {
        "id": "uaPqoUDBYW_O"
      }
    },
    {
      "cell_type": "markdown",
      "source": [
        "### **1. State the Hypotheses:**"
      ],
      "metadata": {
        "id": "fuOsScCFY-MY"
      }
    },
    {
      "cell_type": "markdown",
      "source": [
        "Null Hypothesis (H₀): There is no significant association between the type of smart home device (Smart Thermostat vs. Smart Light) and the customer satisfaction level. In other words, the two variables are independent.\n",
        "\n",
        "Alternative Hypothesis (H₁): There is a significant association between the type of smart home device and the customer satisfaction level. In other words, the two variables are not independent."
      ],
      "metadata": {
        "id": "9USYRkNEZJoS"
      }
    },
    {
      "cell_type": "markdown",
      "source": [
        "### **2. Compute the Chi-Square Statistic:**"
      ],
      "metadata": {
        "id": "2QssgS7BZS3L"
      }
    },
    {
      "cell_type": "markdown",
      "source": [
        "To compute the Chi-Square statistic, we need to:\n",
        "\n",
        "Calculate the expected frequencies for each cell in the contingency table.\n",
        "Use the formula for the Chi-Square statistic:\n",
        "𝜒\n",
        "2\n",
        "=\n",
        "∑\n",
        "(\n",
        "𝑂\n",
        "𝑖\n",
        "−\n",
        "𝐸\n",
        "𝑖\n",
        ")\n",
        "2\n",
        "𝐸\n",
        "𝑖\n",
        "χ\n",
        "2\n",
        " =∑\n",
        "E\n",
        "i\n",
        "​\n",
        "\n",
        "(O\n",
        "i\n",
        "​\n",
        " −E\n",
        "i\n",
        "​\n",
        " )\n",
        "2\n",
        "\n",
        "​\n",
        "\n",
        "where\n",
        "𝑂\n",
        "𝑖\n",
        "O\n",
        "i\n",
        "​\n",
        "  is the observed frequency and\n",
        "𝐸\n",
        "𝑖\n",
        "E\n",
        "i\n",
        "​\n",
        "  is the expected frequency.\n",
        "\n",
        "Let's start by calculating the expected frequencies and then compute the Chi-Square statistic.\n",
        "\n",
        "The calculated Chi-Square statistic is approximately\n",
        "𝜒\n",
        "2\n",
        "=\n",
        "5.64\n",
        "χ\n",
        "2\n",
        " =5.64."
      ],
      "metadata": {
        "id": "4S85kQxsZX-8"
      }
    },
    {
      "cell_type": "markdown",
      "source": [
        "### **3. Determine the Critical Value:**"
      ],
      "metadata": {
        "id": "uXHdCljBZddu"
      }
    },
    {
      "cell_type": "markdown",
      "source": [
        "The critical value for the Chi-Square test can be determined using the significance level (\n",
        "𝛼\n",
        "=\n",
        "0.05\n",
        "α=0.05) and the degrees of freedom (df). The degrees of freedom for a contingency table are calculated as:\n",
        "\n",
        "df\n",
        "=\n",
        "(\n",
        "number of rows\n",
        "−\n",
        "1\n",
        ")\n",
        "×\n",
        "(\n",
        "number of columns\n",
        "−\n",
        "1\n",
        ")\n",
        "df=(number of rows−1)×(number of columns−1)\n",
        "Given that there are 5 satisfaction levels (rows) and 2 types of devices (columns), the degrees of freedom will be:\n",
        "\n",
        "df\n",
        "=\n",
        "(\n",
        "5\n",
        "−\n",
        "1\n",
        ")\n",
        "×\n",
        "(\n",
        "2\n",
        "−\n",
        "1\n",
        ")\n",
        "=\n",
        "4\n",
        "×\n",
        "1\n",
        "=\n",
        "4\n",
        "df=(5−1)×(2−1)=4×1=4\n",
        "Let's calculate the critical value for a Chi-Square distribution with 4 degrees of freedom at a significance level of 0.05"
      ],
      "metadata": {
        "id": "f72Q5WxtZj_A"
      }
    },
    {
      "cell_type": "markdown",
      "source": [
        "### **4. Make a Decision:**"
      ],
      "metadata": {
        "id": "nKsoj379ZrPv"
      }
    },
    {
      "cell_type": "markdown",
      "source": [
        "To make a decision, compare the Chi-Square statistic with the critical value:\n",
        "\n",
        "1. **Chi-Square Statistic:** Approximately \\( \\chi^2 = 5.64 \\)\n",
        "2. **Critical Value:** This value would be retrieved from a Chi-Square table or calculated, but it is typically around 9.49 for 4 degrees of freedom at a 0.05 significance level.\n",
        "\n",
        "**Decision Rule:**\n",
        "- If the Chi-Square statistic is **greater** than the critical value, reject the null hypothesis.\n",
        "- If the Chi-Square statistic is **less** than or equal to the critical value, do not reject the null hypothesis.\n",
        "\n",
        "### Conclusion:\n",
        "Since \\( \\chi^2 = 5.64 \\) is **less** than the critical value (approximately 9.49), we **do not reject the null hypothesis**.\n",
        "\n",
        "### Interpretation:\n",
        "There is not enough evidence to suggest a significant association between the type of smart home device (Smart Thermostats vs. Smart Lights) and customer satisfaction levels. This implies that customer satisfaction is independent of the type of device purchased."
      ],
      "metadata": {
        "id": "WIy7Sw9laS5T"
      }
    },
    {
      "cell_type": "markdown",
      "source": [],
      "metadata": {
        "id": "ZeIK8FKeanLy"
      }
    }
  ]
}