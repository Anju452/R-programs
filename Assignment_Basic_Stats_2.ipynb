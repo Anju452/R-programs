{
  "nbformat": 4,
  "nbformat_minor": 0,
  "metadata": {
    "colab": {
      "provenance": []
    },
    "kernelspec": {
      "name": "python3",
      "display_name": "Python 3"
    },
    "language_info": {
      "name": "python"
    }
  },
  "cells": [
    {
      "cell_type": "markdown",
      "source": [
        "### **Estimation And Confidence Intervals**"
      ],
      "metadata": {
        "id": "KxxUTCBJM_i3"
      }
    },
    {
      "cell_type": "markdown",
      "source": [
        "To construct a 99% confidence interval for a population mean using the sample standard deviation, you can follow these steps:\n",
        "\n",
        "### Steps to Calculate a 99% Confidence Interval:\n",
        "\n",
        "1. **Determine the sample mean (\\(\\bar{x}\\))**:\n",
        "   - Calculate the mean of your sample data.\n",
        "\n",
        "2. **Calculate the sample standard deviation (\\(s\\))**:\n",
        "   - Compute the standard deviation of your sample data.\n",
        "\n",
        "3. **Find the sample size (\\(n\\))**:\n",
        "   - Determine how many observations (data points) are in your sample.\n",
        "\n",
        "4. **Find the t-score**:\n",
        "   - Since the population standard deviation is unknown and the sample size is relatively small (typically \\( n < 30 \\)), you'll use the t-distribution.\n",
        "   - The t-score depends on the desired confidence level (99%) and the degrees of freedom (\\(df = n - 1\\)).\n",
        "\n",
        "5. **Calculate the margin of error (ME)**:\n",
        "   \\[\n",
        "   ME = t_{\\alpha/2} \\times \\frac{s}{\\sqrt{n}}\n",
        "   \\]\n",
        "   where:\n",
        "   - \\( t_{\\alpha/2} \\) is the t-score for a 99% confidence level,\n",
        "   - \\( s \\) is the sample standard deviation,\n",
        "   - \\( n \\) is the sample size.\n",
        "\n",
        "6. **Determine the confidence interval**:\n",
        "   \\[\n",
        "   \\text{Confidence Interval} = \\bar{x} \\pm ME\n",
        "   \\]\n",
        "   - Lower bound = \\(\\bar{x} - ME\\)\n",
        "   - Upper bound = \\(\\bar{x} + ME\\)\n",
        "\n"
      ],
      "metadata": {
        "id": "nygvP098Mw4O"
      }
    },
    {
      "cell_type": "markdown",
      "source": [
        "### **a) Build 99% Confidence Interval Using Sample Standard Deviation**"
      ],
      "metadata": {
        "id": "PTIMu8wDNs9Z"
      }
    },
    {
      "cell_type": "markdown",
      "source": [
        "Let's calculate the 99% confidence interval for the given data:\n",
        "\n",
        "### Step 1: Calculate the Sample Mean (\\(\\bar{x}\\))\n",
        "\n",
        "First, sum all the data points and then divide by the number of data points to get the sample mean.\n",
        "\n",
        "\\[\n",
        "\\bar{x} = \\frac{1.13 + 1.55 + 1.43 + 0.92 + 1.25 + 1.36 + 1.32 + 0.85 + 1.07 + 1.48 + 1.20 + 1.33 + 1.18 + 1.22 + 1.29}{15}\n",
        "\\]\n",
        "\n",
        "### Step 2: Calculate the Sample Standard Deviation (\\(s\\))\n",
        "\n",
        "Use the formula for sample standard deviation:\n",
        "\n",
        "\\[\n",
        "s = \\sqrt{\\frac{\\sum_{i=1}^{n} (x_i - \\bar{x})^2}{n - 1}}\n",
        "\\]\n",
        "\n",
        "Where \\( x_i \\) represents each individual data point, \\( \\bar{x} \\) is the sample mean, and \\( n \\) is the number of data points.\n",
        "\n",
        "### Step 3: Determine the Sample Size (\\(n\\))\n",
        "\n",
        "The number of data points \\(n = 15\\).\n",
        "\n",
        "### Step 4: Find the t-Score for 99% Confidence Level\n",
        "\n",
        "For \\(df = n - 1 = 14\\), the t-score for a 99% confidence level can be obtained from a t-distribution table or calculator.\n",
        "\n",
        "### Step 5: Calculate the Margin of Error (ME)\n",
        "\n",
        "\\[\n",
        "ME = t_{\\alpha/2} \\times \\frac{s}{\\sqrt{n}}\n",
        "\\]\n",
        "\n",
        "### Step 6: Determine the Confidence Interval\n",
        "\n",
        "\\[\n",
        "\\text{Confidence Interval} = \\bar{x} \\pm ME\n",
        "\\]\n",
        "\n",
        "I'll now calculate these values for you.\n",
        "\n",
        "### Results:\n",
        "\n",
        "- **Sample Mean (\\(\\bar{x}\\))**: \\(1.239\\) (approximately)\n",
        "- **Sample Standard Deviation (\\(s\\))**: \\(0.193\\)\n",
        "- **t-Score for 99% Confidence Level**: \\(2.977\\)\n",
        "- **Margin of Error (ME)**: \\(0.148\\)\n",
        "\n",
        "### 99% Confidence Interval:\n",
        "\n",
        "The 99% confidence interval for the population mean is approximately \\([1.090, 1.387]\\)."
      ],
      "metadata": {
        "id": "S-4N3mEnNfmK"
      }
    },
    {
      "cell_type": "markdown",
      "source": [
        "### **b) Build 99% Confidence Interval Using Known Population Standard Deviation**"
      ],
      "metadata": {
        "id": "tTJ3hIYIOPeo"
      }
    },
    {
      "cell_type": "markdown",
      "source": [],
      "metadata": {
        "id": "df3UOGM-M96T"
      }
    },
    {
      "cell_type": "markdown",
      "source": [
        "To construct a 99% confidence interval for the population mean using a known population standard deviation, we'll use the following steps:\n",
        "\n",
        "### Steps to Calculate a 99% Confidence Interval:\n",
        "\n",
        "1. **Determine the sample mean (\\(\\bar{x}\\))**:\n",
        "   - Calculate the mean of your sample data.\n",
        "\n",
        "2. **Identify the population standard deviation (\\(\\sigma\\))**:\n",
        "   - This value is given as known.\n",
        "\n",
        "3. **Find the sample size (\\(n\\))**:\n",
        "   - Determine the number of observations in your sample.\n",
        "\n",
        "4. **Find the z-score for a 99% confidence level**:\n",
        "   - For a 99% confidence level, the z-score (from the standard normal distribution) is approximately \\(2.576\\).\n",
        "\n",
        "5. **Calculate the margin of error (ME)**:\n",
        "   \\[\n",
        "   ME = z_{\\alpha/2} \\times \\frac{\\sigma}{\\sqrt{n}}\n",
        "   \\]\n",
        "   where:\n",
        "   - \\( z_{\\alpha/2} \\) is the z-score for a 99% confidence level,\n",
        "   - \\( \\sigma \\) is the population standard deviation,\n",
        "   - \\( n \\) is the sample size.\n",
        "\n",
        "6. **Determine the confidence interval**:\n",
        "   \\[\n",
        "   \\text{Confidence Interval} = \\bar{x} \\pm ME\n",
        "   \\]\n",
        "\n",
        "### Example Calculation:\n",
        "Suppose the population standard deviation \\(\\sigma\\) is known to be, for example, \\(0.2\\). Given the sample data:\n",
        "\n",
        "\\[\n",
        "1.13, 1.55, 1.43, 0.92, 1.25, 1.36, 1.32, 0.85, 1.07, 1.48, 1.20, 1.33, 1.18, 1.22, 1.29\n",
        "\\]\n",
        "\n",
        "I'll calculate the 99% confidence interval using the known population standard deviation.\n",
        "\n",
        "### Results:\n",
        "\n",
        "- **Z-Score for 99% Confidence Level**: \\(2.576\\)\n",
        "- **Margin of Error (ME)**: \\(0.133\\)\n",
        "\n",
        "### 99% Confidence Interval:\n",
        "\n",
        "The 99% confidence interval for the population mean, using the known population standard deviation of \\(0.2\\), is approximately \\([1.106, 1.372]\\)."
      ],
      "metadata": {
        "id": "TX5Vt-2TOzac"
      }
    },
    {
      "cell_type": "code",
      "source": [],
      "metadata": {
        "id": "mkzhvoX7O1eS"
      },
      "execution_count": null,
      "outputs": []
    }
  ]
}